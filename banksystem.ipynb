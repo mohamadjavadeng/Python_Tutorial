{
 "cells": [
  {
   "cell_type": "markdown",
   "metadata": {},
   "source": [
    "$Parent\\hspace{0.2cm}Class\\\\$\n",
    "$User\\hspace{0.2cm}Class$"
   ]
  },
  {
   "cell_type": "code",
   "execution_count": 1,
   "metadata": {},
   "outputs": [],
   "source": [
    "class User():\n",
    "    NumberOfUsers = 0\n",
    "    def __init__(self, ID, name, age, gender):\n",
    "        self.ID = ID\n",
    "        self.name = name\n",
    "        self.age = age\n",
    "        self.gender = gender\n",
    "    \n",
    "    def personal_info(self):\n",
    "        print(\"Personal information:\")\n",
    "        print(f\"ID: {self.ID}\")\n",
    "        print(f\"Name: {self.name}\")\n",
    "        print(f\"Age: {self.age}\")\n",
    "        print(f\"Gender: {self.gender}\")\n"
   ]
  },
  {
   "cell_type": "code",
   "execution_count": 2,
   "metadata": {},
   "outputs": [
    {
     "name": "stdout",
     "output_type": "stream",
     "text": [
      "Personal information:\n",
      "ID: 1\n",
      "Name: John Doe\n",
      "Age: 29\n",
      "Gender: male\n"
     ]
    }
   ],
   "source": [
    "u1 = User(1, \"John Doe\", 29, \"male\")\n",
    "u1.personal_info()"
   ]
  },
  {
   "cell_type": "markdown",
   "metadata": {},
   "source": [
    "$Child\\hspace{0.2cm}Class\\\\$\n",
    "$Bank\\hspace{0.2cm}Class$"
   ]
  },
  {
   "cell_type": "code",
   "execution_count": 3,
   "metadata": {},
   "outputs": [],
   "source": [
    "class Bank(User):\n",
    "    bankUser = 0\n",
    "    def __init__(self, ID, name, age, gender):\n",
    "        super().__init__(ID, name, age, gender)\n",
    "        Bank.addUser()\n",
    "        self.accontID = \"290038\"+str(Bank.bankUser)\n",
    "        self.balance = 0\n",
    "\n",
    "    def deposit(self, amount):\n",
    "        self.balance = self.balance + amount\n",
    "        return self.balance\n",
    "    \n",
    "    def withdraw(self, amount):\n",
    "        if amount <= self.balance:\n",
    "            self.balance = self.balance - amount\n",
    "        else:\n",
    "            print(\"Insufficient funds\")\n",
    "        return self.balance\n",
    "    \n",
    "    def viewBalance(self):\n",
    "        print(\"Balance: \"+str(self.balance))\n",
    "\n",
    "    def account_info(self):\n",
    "        print(\"Personal information:\")\n",
    "        print(f\"ID: {self.ID}\")\n",
    "        print(f\"Name: {self.name}\")\n",
    "        print(f\"Age: {self.age}\")\n",
    "        print(f\"Gender: {self.gender}\")\n",
    "        print(f\"Account ID: {self.accontID}\")\n",
    "        print(f\"Balance: ${self.balance}\")\n",
    "\n",
    "    @classmethod\n",
    "    def addUser(cls):\n",
    "        cls.bankUser += 1"
   ]
  },
  {
   "cell_type": "code",
   "execution_count": 4,
   "metadata": {},
   "outputs": [
    {
     "name": "stdout",
     "output_type": "stream",
     "text": [
      "Personal information:\n",
      "ID: 12\n",
      "Name: MJ\n",
      "Age: 30\n",
      "Gender: Male\n",
      "Account ID: 2900381\n",
      "Balance: $0\n"
     ]
    }
   ],
   "source": [
    "user2 = Bank(12, \"MJ\", 30, \"Male\")\n",
    "user2.account_info()"
   ]
  },
  {
   "cell_type": "code",
   "execution_count": 5,
   "metadata": {},
   "outputs": [
    {
     "name": "stdout",
     "output_type": "stream",
     "text": [
      "Personal information:\n",
      "ID: 12\n",
      "Name: MJ\n",
      "Age: 30\n",
      "Gender: Male\n",
      "Account ID: 2900381\n",
      "Balance: $1000\n"
     ]
    }
   ],
   "source": [
    "user2.deposit(1000)\n",
    "user2.account_info()"
   ]
  },
  {
   "cell_type": "code",
   "execution_count": 6,
   "metadata": {},
   "outputs": [
    {
     "data": {
      "text/plain": [
       "0"
      ]
     },
     "execution_count": 6,
     "metadata": {},
     "output_type": "execute_result"
    }
   ],
   "source": [
    "user2.withdraw(1000)"
   ]
  },
  {
   "cell_type": "code",
   "execution_count": 7,
   "metadata": {},
   "outputs": [],
   "source": [
    "user3 = Bank(325, \"Donya\", 31, \"Female\")"
   ]
  },
  {
   "cell_type": "code",
   "execution_count": 8,
   "metadata": {},
   "outputs": [
    {
     "name": "stdout",
     "output_type": "stream",
     "text": [
      "Personal information:\n",
      "ID: 325\n",
      "Name: Donya\n",
      "Age: 31\n",
      "Gender: Female\n",
      "Account ID: 2900382\n",
      "Balance: $1500\n"
     ]
    }
   ],
   "source": [
    "user3.deposit(1500)\n",
    "user3.account_info()"
   ]
  },
  {
   "cell_type": "code",
   "execution_count": 9,
   "metadata": {},
   "outputs": [
    {
     "data": {
      "text/plain": [
       "2"
      ]
     },
     "execution_count": 9,
     "metadata": {},
     "output_type": "execute_result"
    }
   ],
   "source": [
    "Bank.bankUser"
   ]
  },
  {
   "cell_type": "code",
   "execution_count": null,
   "metadata": {},
   "outputs": [],
   "source": []
  }
 ],
 "metadata": {
  "kernelspec": {
   "display_name": "Python 3",
   "language": "python",
   "name": "python3"
  },
  "language_info": {
   "codemirror_mode": {
    "name": "ipython",
    "version": 3
   },
   "file_extension": ".py",
   "mimetype": "text/x-python",
   "name": "python",
   "nbconvert_exporter": "python",
   "pygments_lexer": "ipython3",
   "version": "3.11.5"
  }
 },
 "nbformat": 4,
 "nbformat_minor": 2
}
