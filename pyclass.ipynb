{
 "cells": [
  {
   "cell_type": "code",
   "execution_count": 1,
   "metadata": {},
   "outputs": [],
   "source": [
    "class human:\n",
    "    def __init__(self, name, height, weight, age):\n",
    "        self.name = name\n",
    "        self.height = height\n",
    "        self.weight = weight\n",
    "        self.age = age\n",
    "\n",
    "    def BMI(self):\n",
    "        return self.weight / (self.height * self.height)\n",
    "    \n",
    "    def marriageStatus(self, state=\"single\"):\n",
    "        self.state = state\n",
    "    \n",
    "    def introduce(self):\n",
    "        return f\"My name is {self.name}, I am {self.age} years old and I am {self.state}\""
   ]
  },
  {
   "cell_type": "code",
   "execution_count": 2,
   "metadata": {},
   "outputs": [
    {
     "data": {
      "text/plain": [
       "30.189590629151066"
      ]
     },
     "execution_count": 2,
     "metadata": {},
     "output_type": "execute_result"
    }
   ],
   "source": [
    "h1 = human('Mohammad', 1.82, 100, 30)\n",
    "h1.BMI()"
   ]
  },
  {
   "cell_type": "code",
   "execution_count": 3,
   "metadata": {},
   "outputs": [
    {
     "name": "stdout",
     "output_type": "stream",
     "text": [
      "My name is Mohammad, I am 30 years old and I am Married\n"
     ]
    }
   ],
   "source": [
    "h1.marriageStatus(\"Married\")\n",
    "print(h1.introduce())"
   ]
  },
  {
   "cell_type": "code",
   "execution_count": 4,
   "metadata": {},
   "outputs": [],
   "source": [
    "class man(human):\n",
    "    def __init__(self, name, height, weight, age, footsize, armsize):\n",
    "        super().__init__(name, height, weight, age)\n",
    "        self.footsize = footsize\n",
    "        self.armsize = armsize\n",
    "        self.gender = \"male\"\n",
    "        self.state = \"single\"\n",
    "\n",
    "    # def marriageStatus(self, state=\"single\"):\n",
    "    #     super().marriageStatus(state)\n",
    "    #     self.state = state\n",
    "        \n",
    "    def introduce(self):\n",
    "        txt = super().introduce()\n",
    "        txt2 = f\"I am a {self.gender} man with {self.footsize} foot\"\n",
    "        tex3 = f\"my BMI is {self.gender}\"\n",
    "        return f\"{txt}. {txt2}. {tex3}\""
   ]
  },
  {
   "cell_type": "code",
   "execution_count": 5,
   "metadata": {},
   "outputs": [
    {
     "data": {
      "text/plain": [
       "28.680111097693512"
      ]
     },
     "execution_count": 5,
     "metadata": {},
     "output_type": "execute_result"
    }
   ],
   "source": [
    "m1 = man('bill', 1.82, 95, 35, 43, 35)\n",
    "m1.BMI()"
   ]
  },
  {
   "cell_type": "code",
   "execution_count": 6,
   "metadata": {},
   "outputs": [
    {
     "data": {
      "text/plain": [
       "'My name is bill, I am 35 years old and I am Married. I am a male man with 43 foot. my BMI is male'"
      ]
     },
     "execution_count": 6,
     "metadata": {},
     "output_type": "execute_result"
    }
   ],
   "source": [
    "m1.marriageStatus(\"Married\")\n",
    "m1.introduce()"
   ]
  },
  {
   "cell_type": "code",
   "execution_count": null,
   "metadata": {},
   "outputs": [],
   "source": []
  }
 ],
 "metadata": {
  "kernelspec": {
   "display_name": "Python 3",
   "language": "python",
   "name": "python3"
  },
  "language_info": {
   "codemirror_mode": {
    "name": "ipython",
    "version": 3
   },
   "file_extension": ".py",
   "mimetype": "text/x-python",
   "name": "python",
   "nbconvert_exporter": "python",
   "pygments_lexer": "ipython3",
   "version": "3.11.5"
  }
 },
 "nbformat": 4,
 "nbformat_minor": 2
}
